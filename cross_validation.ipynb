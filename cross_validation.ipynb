{
 "cells": [
  {
   "cell_type": "markdown",
   "metadata": {},
   "source": [
    "# Test Train Split and Cross Validation\n",
    "\n",
    "## Review of train/test validation methods\n",
    "\n",
    "We've discussed overfitting, underfitting, and how to validate the \"generalizeability\" of your models by testing them on unseen data. \n",
    "\n",
    "In this lab you'll practice two related validation methods: \n",
    "1. **train/test split**\n",
    "2. **k-fold cross-validation**\n",
    "\n",
    "Train/test split and k-fold cross-validation both serve two useful purposes:\n",
    "- We prevent overfitting by not using all the data, and\n",
    "- We retain some remaining data to evaluate our model.\n",
    "\n",
    "In the case of cross-validation, the model fitting and evaluation is performed multiple times on different train/test splits of the data.\n",
    "\n",
    "Ultimately we use can the training and testing validation framework to compare multiple models on the same dataset. This could be comparisons of two linear models or of completely different models on the same data."
   ]
  },
  {
   "cell_type": "markdown",
   "metadata": {},
   "source": [
    "## Instructions\n",
    "\n",
    "For your independent practice, fit **three different models** on the Boston housing data. For example, you could pick three different subsets of variables, one or more polynomial models, or any other model that you like. \n",
    "\n",
    "**Start with train/test split validation:**\n",
    "* Fix a testing/training split of the data\n",
    "* Train each of your models on the training data\n",
    "* Evaluate each of the models on the test data\n",
    "* Rank the models by how well they score on the testing data set.\n",
    "\n",
    "**Then try K-Fold cross-validation:**\n",
    "* Perform a k-fold cross validation and use the cross-validation scores to compare your models. Did this change your rankings?\n",
    "* Try a few different K-splits of the data for the same models.\n",
    "\n",
    "If you're interested, try a variety of response variables.  We start with **MEDV** (the `.target` attribute from the dataset load method)."
   ]
  },
  {
   "cell_type": "code",
   "execution_count": 1,
   "metadata": {
    "collapsed": true
   },
   "outputs": [],
   "source": [
    "import numpy as np\n",
    "import pandas as pd\n",
    "import matplotlib.pyplot as plt\n",
    "import seaborn as sns\n",
    "\n",
    "from sklearn.linear_model import LinearRegression\n",
    "from sklearn.model_selection import train_test_split\n",
    "\n",
    "%matplotlib inline"
   ]
  },
  {
   "cell_type": "code",
   "execution_count": 2,
   "metadata": {
    "collapsed": true
   },
   "outputs": [],
   "source": [
    "from sklearn.datasets import load_boston\n",
    "boston = load_boston()\n",
    "\n",
    "X = pd.DataFrame(boston.data, columns=boston.feature_names)\n",
    "y = boston.target"
   ]
  },
  {
   "cell_type": "markdown",
   "metadata": {},
   "source": [
    "### 1. Clean up any data problems\n",
    "\n",
    "Load the Boston housing data.  Fix any problems, if applicable."
   ]
  },
  {
   "cell_type": "code",
   "execution_count": 59,
   "metadata": {},
   "outputs": [],
   "source": [
    "# print(boston.DESCR)"
   ]
  },
  {
   "cell_type": "code",
   "execution_count": 13,
   "metadata": {},
   "outputs": [
    {
     "data": {
      "text/plain": [
       "CRIM       0\n",
       "ZN         0\n",
       "INDUS      0\n",
       "CHAS       0\n",
       "NOX        0\n",
       "RM         0\n",
       "AGE        0\n",
       "DIS        0\n",
       "RAD        0\n",
       "TAX        0\n",
       "PTRATIO    0\n",
       "B          0\n",
       "LSTAT      0\n",
       "dtype: int64"
      ]
     },
     "execution_count": 13,
     "metadata": {},
     "output_type": "execute_result"
    }
   ],
   "source": [
    "X.isnull().sum()"
   ]
  },
  {
   "cell_type": "code",
   "execution_count": 14,
   "metadata": {
    "collapsed": true
   },
   "outputs": [],
   "source": [
    "# looks good to me! ^_^"
   ]
  },
  {
   "cell_type": "markdown",
   "metadata": {},
   "source": [
    "### 2. Select 3-4 variables with your dataset to perform a 50/50 test train split on\n",
    "\n",
    "- Train your model on the the **training** data\n",
    "- Score and plot your predictions for the **test** data (i.e., a scatter plot of actual y values versus predicted y values)\n",
    "- How well did your model do?"
   ]
  },
  {
   "cell_type": "code",
   "execution_count": 34,
   "metadata": {
    "collapsed": true
   },
   "outputs": [],
   "source": [
    "# convert y to df & join to X df, find abs of correlation plot\n",
    "c = pd.concat([X, pd.DataFrame(data=y).rename(columns={0: 'MEDV'})], axis=1).corr().abs()"
   ]
  },
  {
   "cell_type": "code",
   "execution_count": 41,
   "metadata": {},
   "outputs": [
    {
     "data": {
      "text/html": [
       "<div>\n",
       "<style>\n",
       "    .dataframe thead tr:only-child th {\n",
       "        text-align: right;\n",
       "    }\n",
       "\n",
       "    .dataframe thead th {\n",
       "        text-align: left;\n",
       "    }\n",
       "\n",
       "    .dataframe tbody tr th {\n",
       "        vertical-align: top;\n",
       "    }\n",
       "</style>\n",
       "<table border=\"1\" class=\"dataframe\">\n",
       "  <thead>\n",
       "    <tr style=\"text-align: right;\">\n",
       "      <th></th>\n",
       "      <th></th>\n",
       "      <th>correllation coefficient</th>\n",
       "    </tr>\n",
       "  </thead>\n",
       "  <tbody>\n",
       "    <tr>\n",
       "      <th>RAD</th>\n",
       "      <th>TAX</th>\n",
       "      <td>0.910228</td>\n",
       "    </tr>\n",
       "    <tr>\n",
       "      <th>TAX</th>\n",
       "      <th>RAD</th>\n",
       "      <td>0.910228</td>\n",
       "    </tr>\n",
       "    <tr>\n",
       "      <th>NOX</th>\n",
       "      <th>DIS</th>\n",
       "      <td>0.769230</td>\n",
       "    </tr>\n",
       "    <tr>\n",
       "      <th>DIS</th>\n",
       "      <th>NOX</th>\n",
       "      <td>0.769230</td>\n",
       "    </tr>\n",
       "    <tr>\n",
       "      <th>INDUS</th>\n",
       "      <th>NOX</th>\n",
       "      <td>0.763651</td>\n",
       "    </tr>\n",
       "    <tr>\n",
       "      <th>NOX</th>\n",
       "      <th>INDUS</th>\n",
       "      <td>0.763651</td>\n",
       "    </tr>\n",
       "    <tr>\n",
       "      <th>AGE</th>\n",
       "      <th>DIS</th>\n",
       "      <td>0.747881</td>\n",
       "    </tr>\n",
       "  </tbody>\n",
       "</table>\n",
       "</div>"
      ],
      "text/plain": [
       "             correllation coefficient\n",
       "RAD   TAX                    0.910228\n",
       "TAX   RAD                    0.910228\n",
       "NOX   DIS                    0.769230\n",
       "DIS   NOX                    0.769230\n",
       "INDUS NOX                    0.763651\n",
       "NOX   INDUS                  0.763651\n",
       "AGE   DIS                    0.747881"
      ]
     },
     "execution_count": 41,
     "metadata": {},
     "output_type": "execute_result"
    }
   ],
   "source": [
    "s = c.unstack()\n",
    "so = s.sort_values(ascending=False)\n",
    "topVars = pd.DataFrame(so.loc[so < 1].head(7))\n",
    "topVars.rename(columns={0: 'correllation coefficient'})"
   ]
  },
  {
   "cell_type": "code",
   "execution_count": 42,
   "metadata": {},
   "outputs": [
    {
     "name": "stdout",
     "output_type": "stream",
     "text": [
      "['RAD', 'TAX', 'NOX', 'DIS', 'INDUS', 'AGE']\n"
     ]
    }
   ],
   "source": [
    "# make a list of the top correllated vars\n",
    "topLabels = []\n",
    "for row in topVars.index:\n",
    "    for item in row:\n",
    "        if item in ['latitude', 'longitude']:\n",
    "            continue\n",
    "        if item in topLabels:\n",
    "            continue\n",
    "        else:\n",
    "            topLabels.append(item)\n",
    "\n",
    "print(topLabels)"
   ]
  },
  {
   "cell_type": "code",
   "execution_count": 44,
   "metadata": {},
   "outputs": [
    {
     "data": {
      "text/plain": [
       "['RAD', 'TAX', 'NOX', 'DIS']"
      ]
     },
     "execution_count": 44,
     "metadata": {},
     "output_type": "execute_result"
    }
   ],
   "source": [
    "topLabels[:4]"
   ]
  },
  {
   "cell_type": "code",
   "execution_count": 56,
   "metadata": {},
   "outputs": [
    {
     "data": {
      "text/plain": [
       "LSTAT      0.737663\n",
       "RM         0.695360\n",
       "PTRATIO    0.507787\n",
       "INDUS      0.483725\n",
       "Name: MEDV, dtype: float64"
      ]
     },
     "execution_count": 56,
     "metadata": {},
     "output_type": "execute_result"
    }
   ],
   "source": [
    "pd.concat([X, pd.DataFrame(data=y).rename(columns={0: 'MEDV'})], axis=1).corr().abs().loc['MEDV'].sort_values(ascending=False)[1:5]"
   ]
  },
  {
   "cell_type": "code",
   "execution_count": 72,
   "metadata": {},
   "outputs": [
    {
     "name": "stdout",
     "output_type": "stream",
     "text": [
      "X_train shape: (253, 13),     X_test shape: (253, 13),     y_train shape: (253,),     y_test shape: (253,)\n"
     ]
    }
   ],
   "source": [
    "X_train, X_test, y_train, y_test = train_test_split(X, y, train_size=0.5)\n",
    "# TODO: clean up the print a bit\n",
    "# X test and train are both 253 rows, 13 cols\n",
    "# y test and train are both 253 rows, 1 col\n",
    "print('X_train shape: {}, \\\n",
    "    X_test shape: {}, \\\n",
    "    y_train shape: {}, \\\n",
    "    y_test shape: {}'.format(X_train.shape, X_test.shape, y_train.shape, y_test.shape) )"
   ]
  },
  {
   "cell_type": "code",
   "execution_count": 92,
   "metadata": {
    "collapsed": true
   },
   "outputs": [],
   "source": [
    "lm = LinearRegression()"
   ]
  },
  {
   "cell_type": "code",
   "execution_count": 97,
   "metadata": {},
   "outputs": [
    {
     "name": "stdout",
     "output_type": "stream",
     "text": [
      "Score of 50/50 model: 73.1%\n"
     ]
    },
    {
     "data": {
      "image/png": "[encoded data removed]",
      "text/plain": [
       "<matplotlib.figure.Figure at 0x7febb65233c8>"
      ]
     },
     "metadata": {},
     "output_type": "display_data"
    }
   ],
   "source": [
    "# fit the model, create predictions array and score variable\n",
    "model_5050 = lm.fit(X_train, y_train)\n",
    "predictions  =  model_5050.predict(X_test)\n",
    "score        =  model_5050.score(X_test, y_test)\n",
    "\n",
    "# Plot the model\n",
    "plt.figure(figsize=(8,8))\n",
    "plt.scatter(predictions, y_test, s=30, c='r', marker='+', zorder=10)\n",
    "plt.xlabel(\"Predicted Values from RM - $\\hat{y}$\")\n",
    "plt.ylabel(\"Actual Values MEDV - y\")\n",
    "\n",
    "plt.plot([0, np.max(y_test)], [0, np.max(y_test)])\n",
    "\n",
    "print('Score of 50/50 model: {}%'.format(round(score,3)*100))\n",
    "plt.show()"
   ]
  },
  {
   "cell_type": "markdown",
   "metadata": {},
   "source": [
    "### 3. Try ratios of 70/30 and 90/10 for the training set to test set\n",
    "\n",
    "- Score and plot your test set (i.e., a scatter plot of actual y values versus predicted y values)\n",
    "- How does the score change across both of them?"
   ]
  },
  {
   "cell_type": "code",
   "execution_count": null,
   "metadata": {
    "collapsed": true
   },
   "outputs": [],
   "source": []
  },
  {
   "cell_type": "markdown",
   "metadata": {},
   "source": [
    "### 4. Try K-Folds cross-validation with _k_ between 5-10 for your regression. \n",
    "\n",
    "You can use either `cross_val_score` / `cross_val_predict` or the `KFolds` iterator\n",
    "\n",
    "- What set of variables are optimal? \n",
    "- How do your scores change?  \n",
    "- How does the variance of the scores change?\n",
    "- Try different folds to get a sense of how this impacts your score."
   ]
  },
  {
   "cell_type": "code",
   "execution_count": null,
   "metadata": {
    "collapsed": true
   },
   "outputs": [],
   "source": []
  },
  {
   "cell_type": "markdown",
   "metadata": {},
   "source": [
    "### 5. [Bonus] optimize the $R^2$ score\n",
    "\n",
    "Can you optimize your R^2 by selecting the best features and validating the model using train/test split and K-Folds? Set up a scheme to do the following:\n",
    "\n",
    "1. Create a holdout test set using `train_test_split()`. \n",
    "  - We will use the training set in our cross-validation part below to find the right set of columns.\n",
    "  - We will check the best set of columns that we have found against the holdout test as a final check on our work\n",
    "2. Iterate through every pair of columns (use a for loop!) in the training set you created in step 1 and look at the average $R^2$ score found by `cross_val_score()`\n",
    "3. Pick the pair of columns that has the highest cross-validated $R^2$ code and fit a Linear Regression using those columns as the predictors in the full training set you created in step 1.\n",
    "4. Test this \"final\" model against the holdout test set you created in step 1. How well does it perform?"
   ]
  },
  {
   "cell_type": "code",
   "execution_count": null,
   "metadata": {
    "collapsed": true
   },
   "outputs": [],
   "source": []
  },
  {
   "cell_type": "markdown",
   "metadata": {},
   "source": [
    "### 5.1 Can you explain what could be wrong with this approach?"
   ]
  },
  {
   "cell_type": "code",
   "execution_count": null,
   "metadata": {
    "collapsed": true
   },
   "outputs": [],
   "source": []
  },
  {
   "cell_type": "markdown",
   "metadata": {},
   "source": [
    "### 6. [Bonus] Explore another target variable \n",
    "\n",
    "Can you find another response variable, given a combination of predictors, that can be predicted accurately through the exploration of different predictors in this dataset?\n",
    "\n",
    "> *Tip: Check out pairplots, coefficients, and pearson scores.*"
   ]
  },
  {
   "cell_type": "code",
   "execution_count": null,
   "metadata": {
    "collapsed": true
   },
   "outputs": [],
   "source": []
  }
 ],
 "metadata": {
  "anaconda-cloud": {},
  "kernelspec": {
   "display_name": "Python 3",
   "language": "python",
   "name": "python3"
  },
  "language_info": {
   "codemirror_mode": {
    "name": "ipython",
    "version": 3
   },
   "file_extension": ".py",
   "mimetype": "text/x-python",
   "name": "python",
   "nbconvert_exporter": "python",
   "pygments_lexer": "ipython3",
   "version": "3.6.2"
  }
 },
 "nbformat": 4,
 "nbformat_minor": 1
}
